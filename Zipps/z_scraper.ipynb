{
 "cells": [
  {
   "cell_type": "code",
   "execution_count": 1,
   "id": "9af09d29-eca6-441b-93b1-3297053f7585",
   "metadata": {},
   "outputs": [],
   "source": [
    "import selenium\n",
    "import pandas as pd\n",
    "from datetime import datetime"
   ]
  },
  {
   "cell_type": "code",
   "execution_count": 2,
   "id": "67a6ca60-9c1b-4474-891d-6ccb9f8c4948",
   "metadata": {},
   "outputs": [],
   "source": [
    "from selenium import webdriver\n",
    "from selenium.webdriver.support.ui import WebDriverWait\n",
    "from selenium.webdriver.support import expected_conditions as EC\n",
    "from selenium.webdriver.common.by import By\n",
    "from selenium.webdriver.chrome.options import Options\n",
    "from twilio.rest import Client"
   ]
  },
  {
   "cell_type": "code",
   "execution_count": 3,
   "id": "f474bcc6-2aca-4a4c-b5a2-c723868bef9b",
   "metadata": {},
   "outputs": [],
   "source": [
    "# create empty dataframe to store scraped data for this iteration\n",
    "df = pd.DataFrame()"
   ]
  },
  {
   "cell_type": "code",
   "execution_count": 4,
   "id": "d204cc06-4b97-48e7-b00e-e6c980add1ce",
   "metadata": {},
   "outputs": [],
   "source": [
    "# define list of stores to be scraped\n",
    "store_list = [ \n",
    "#               'Zipps Liquor - Conroe Walden',\n",
    "              'Zipps Liquor - FM 1488',\n",
    "#               'Zipps Liquor - Willis',\n",
    "#               'Zipps Liquor - Conroe HWY 242',\n",
    "#               'Zipps Liquor - Conroe N Frazier',\n",
    "#               'Zipps Liquor - Magnolia',\n",
    "#               'Zipps Liquor - Houston Grant Rd',\n",
    "#               'Zipps Liquor - Navasota',\n",
    "              ]"
   ]
  },
  {
   "cell_type": "code",
   "execution_count": 5,
   "id": "c2f82ae0-5e7d-4833-9c95-e91e9b881b4a",
   "metadata": {
    "tags": []
   },
   "outputs": [
    {
     "name": "stdout",
     "output_type": "stream",
     "text": [
      "Zipps Liquor - FM 1488 : (1/1)\n",
      "Zipps Liquor - FM 1488 failed --------\n"
     ]
    }
   ],
   "source": [
    "start_time = datetime.now().strftime(\"%Y-%m-%d %H:%M:%S\")\n",
    "\n",
    "url = 'https://shop.zippsliquor.com/shop/?subtype=whiskey&order=price+desc'   \n",
    "\n",
    "# Set up Selenium WebDriver \n",
    "chrome_options = Options()\n",
    "chrome_options.add_argument(\"--headless\")\n",
    "driver = webdriver.Chrome(options=chrome_options)\n",
    "\n",
    "counter = 1\n",
    "\n",
    "# Navigate to the URL\n",
    "driver.get(url)\n",
    "\n",
    "for store in store_list: \n",
    "    \n",
    "    df_store = pd.DataFrame()\n",
    "    \n",
    "    try:\n",
    "    \n",
    "        print(store,f\": ({counter}/{len(store_list)})\")\n",
    "\n",
    "\n",
    "        # -------------------------- NAVIGATE TO STORE -------------------------------\n",
    "\n",
    "        # Wait for the Change Store button to be clickable\n",
    "        change_button = WebDriverWait(driver, 20).until(\n",
    "            EC.element_to_be_clickable((By.XPATH, \"//button[@class='button ch-button']\"))\n",
    "        )\n",
    "\n",
    "        # Click the Change button to open the store selection modal\n",
    "        change_button.click()\n",
    "\n",
    "        # Wait for the store selection modal to appear\n",
    "        store_button = WebDriverWait(driver, 20).until(\n",
    "            EC.presence_of_element_located((By.XPATH, f\"//div[@aria-label='{store}']//button[@aria-label='Select business']\"))\n",
    "        )\n",
    "\n",
    "        # Click the Change button to open the store selection modal  \n",
    "        store_button.click()\n",
    "\n",
    "\n",
    "        store_names = driver.find_elements(By.XPATH, \"(//div[@class='current-store-info']/strong)[1]\")\n",
    "\n",
    "        for name in store_names:\n",
    "            store_name = name.text\n",
    "\n",
    "\n",
    "        # -------------------------- PAGE 1 -------------------------------\n",
    "\n",
    "\n",
    "        # Scrape the bottles from the page \n",
    "        bottle_list = []\n",
    "        bottles = driver.find_elements(By.XPATH, \"//div[@class='ch-product-name']\")\n",
    "        for bottle in bottles:\n",
    "            bottle_list.append(bottle.text)\n",
    "\n",
    "        # Scrape the prices from the page \n",
    "        price_list = []\n",
    "        prices = driver.find_elements(By.XPATH, \"//span[@class='ch-single-product-price'] | //div[@class='price-range']\")\n",
    "        for price in prices:\n",
    "            price = float(price.text.split(' ')[0].replace('$','').replace(',',''))\n",
    "            price_list.append(price)\n",
    "            \n",
    "        df_store['bottles'] = bottle_list\n",
    "        df_store['price'] = price_list\n",
    "        df_store['store'] = store_name\n",
    "        df_store['timestamp'] = start_time\n",
    "\n",
    "        df = df.append(df_store)\n",
    "\n",
    "        # -------------------------- PAGE 2 -------------------------------    \n",
    "\n",
    "        # move to next page\n",
    "        next_button = WebDriverWait(driver, 20).until(\n",
    "            EC.presence_of_element_located((By.XPATH, f\"//a[@data-hook='search-results-next-page']\"))\n",
    "        )\n",
    "\n",
    "        # Click the Change button to open the store selection modal\n",
    "        next_button.click()\n",
    "\n",
    "        # Scrape the bottles from the page \n",
    "        bottle_list = []\n",
    "        bottles = driver.find_elements(By.XPATH, \"//div[@class='ch-product-name']\")\n",
    "        for bottle in bottles:\n",
    "            bottle_list.append(bottle.text)\n",
    "\n",
    "        # Scrape the prices from the page \n",
    "        price_list = []\n",
    "        prices = driver.find_elements(By.XPATH, \"//span[@class='ch-single-product-price'] | //div[@class='price-range']\")\n",
    "        for price in prices:\n",
    "            price = float(price.text.split(' ')[0].replace('$','').replace(',',''))\n",
    "            price_list.append(price)\n",
    "\n",
    "            \n",
    "        df_store['bottles'] = bottle_list\n",
    "        df_store['price'] = price_list\n",
    "        df_store['store'] = store_name\n",
    "        df_store['timestamp'] = start_time\n",
    "\n",
    "        df = df.append(df_store)\n",
    "\n",
    "\n",
    "        # ----------------------- move back\n",
    "\n",
    "        back_button = WebDriverWait(driver, 20).until(\n",
    "            EC.presence_of_element_located((By.XPATH, f\"//a[@data-hook='search-results-previous-page']\"))\n",
    "        )\n",
    "\n",
    "        # Click the Change button to open the store selection modal\n",
    "        back_button.click()\n",
    "    \n",
    "        back_button = WebDriverWait(driver, 20).until(\n",
    "            EC.presence_of_element_located((By.XPATH, f\"//a[@data-hook='search-results-previous-page']\"))\n",
    "        )\n",
    "\n",
    "        # Click the Change button to open the store selection modal\n",
    "        back_button.click()\n",
    "    \n",
    "    except:\n",
    "        print(f'{store} failed --------')\n",
    "    \n",
    "    counter += 1\n",
    "\n",
    "    \n",
    "# Close the browser\n",
    "driver.quit()"
   ]
  },
  {
   "cell_type": "markdown",
   "id": "904ff808-f6d0-4525-aee2-46b29d3efcf7",
   "metadata": {},
   "source": [
    "### Check for Bottles"
   ]
  },
  {
   "cell_type": "code",
   "execution_count": 6,
   "id": "576730c3-92a4-403a-8d27-19d5e36f0aa9",
   "metadata": {},
   "outputs": [
    {
     "data": {
      "text/plain": [
       "Zipps Liquor - FM 1488    36\n",
       "Name: store, dtype: int64"
      ]
     },
     "execution_count": 6,
     "metadata": {},
     "output_type": "execute_result"
    }
   ],
   "source": [
    "df['store'].value_counts()"
   ]
  },
  {
   "cell_type": "code",
   "execution_count": null,
   "id": "cf355dee-8917-47e9-a130-d6f5df355611",
   "metadata": {},
   "outputs": [],
   "source": [
    "bottles_to_find = ['colonel',\n",
    "                   'caribou',\n",
    "                   'midwinter',\n",
    "                   'russel',\n",
    "                   'elijah',\n",
    "                   'craig 18',\n",
    "                   'blanton',\n",
    "                   'weller',\n",
    "                   'EH taylor',\n",
    "                   'heritage',\n",
    "                   'blood oath',\n",
    "                   'Jameson Gold Reserve',\n",
    "                   'Four Roses Single Barrel Straight Bourbon Whiskey',\n",
    "                   'Henry McKenna 10',\n",
    "                   'King Ranch',\n",
    "                   'Michter',\n",
    "                   'Fitzgerald'\n",
    "                  ]"
   ]
  },
  {
   "cell_type": "code",
   "execution_count": null,
   "id": "78ce58d7-ba42-4b6e-8780-6d3b3b7880af",
   "metadata": {
    "tags": []
   },
   "outputs": [],
   "source": [
    "for bottle in bottles_to_find:\n",
    "    positive = df['bottles'].str.contains(bottle, na=False, case=False)\n",
    "    negative = ~df['bottles'].str.contains('larue|warehouse|Taylor Small|Craig Small', na=False, case=False)\n",
    "    to_show = df[(positive) & (negative)].sort_values('store').drop_duplicates(subset=['bottles','price','store'])\n",
    "    if to_show.shape[0] > 0:\n",
    "        display(to_show)"
   ]
  },
  {
   "cell_type": "markdown",
   "id": "f41d498d-2ba5-4165-9e4a-bedea7a4e724",
   "metadata": {},
   "source": [
    "### Records"
   ]
  },
  {
   "cell_type": "code",
   "execution_count": null,
   "id": "2fde4f8b-3cf4-4313-8570-973257b8c516",
   "metadata": {},
   "outputs": [],
   "source": [
    "records = pd.read_csv('/Users/john.odonnell/Python/web_scraping/Zipps/zipps_records.csv')"
   ]
  },
  {
   "cell_type": "code",
   "execution_count": null,
   "id": "1246af86-7796-4739-9716-a0b77eb46073",
   "metadata": {},
   "outputs": [],
   "source": [
    "new_bottles = [i for i in df['bottles'].unique() if i not in records['bottles'].unique()]\n",
    "new_bottles"
   ]
  },
  {
   "cell_type": "code",
   "execution_count": null,
   "id": "3ca4d0a9-5ff7-46cd-b776-9c6beaa02299",
   "metadata": {},
   "outputs": [],
   "source": [
    "most_recent_records = records[records['timestamp'] == records['timestamp'].max()]\n",
    "new_bottles_since_last_run = [i for i in df['bottles'].unique() if i not in most_recent_records['bottles'].unique()]\n",
    "new_bottles_since_last_run"
   ]
  },
  {
   "cell_type": "code",
   "execution_count": null,
   "id": "5c5485d7-2673-4d32-ad9b-44509df9da81",
   "metadata": {},
   "outputs": [],
   "source": [
    "gone_since_last_run = [i for i in most_recent_records['bottles'].unique() if i not in df['bottles'].unique()]\n",
    "gone_since_last_run"
   ]
  },
  {
   "cell_type": "code",
   "execution_count": null,
   "id": "9fd33718-9a6c-4422-a4f8-92176dcd93d2",
   "metadata": {},
   "outputs": [],
   "source": [
    "output = pd.concat([records,df],ignore_index=True)"
   ]
  },
  {
   "cell_type": "code",
   "execution_count": null,
   "id": "5ce4658e-72c9-415e-9afb-a0bb0284de87",
   "metadata": {},
   "outputs": [],
   "source": [
    "output.to_csv('/Users/john.odonnell/Python/web_scraping/Zipps/zipps_records.csv',index=False)"
   ]
  },
  {
   "cell_type": "markdown",
   "id": "aafe5145-678e-4d1c-ae3f-e06e56f960d9",
   "metadata": {},
   "source": [
    "### View Top Bottles"
   ]
  },
  {
   "cell_type": "code",
   "execution_count": null,
   "id": "6318107d-d93d-42b4-b19f-4c61c8bf8bef",
   "metadata": {},
   "outputs": [],
   "source": [
    "pd.set_option('display.max_rows', None)\n",
    "df.sort_values('price',ascending=False)"
   ]
  },
  {
   "cell_type": "code",
   "execution_count": null,
   "id": "dae83e65-9260-4c8c-ad47-08d185bd5770",
   "metadata": {},
   "outputs": [],
   "source": []
  },
  {
   "cell_type": "code",
   "execution_count": null,
   "id": "4cdda117-a37f-4120-a95c-df2d951027dd",
   "metadata": {},
   "outputs": [],
   "source": []
  }
 ],
 "metadata": {
  "kernelspec": {
   "display_name": "Python 3",
   "language": "python",
   "name": "python3"
  },
  "language_info": {
   "codemirror_mode": {
    "name": "ipython",
    "version": 3
   },
   "file_extension": ".py",
   "mimetype": "text/x-python",
   "name": "python",
   "nbconvert_exporter": "python",
   "pygments_lexer": "ipython3",
   "version": "3.8.8"
  }
 },
 "nbformat": 4,
 "nbformat_minor": 5
}
