{
 "cells": [
  {
   "cell_type": "code",
   "execution_count": 63,
   "id": "cc05ac48-1aa2-4c92-9b69-50a0c9761ace",
   "metadata": {},
   "outputs": [],
   "source": [
    "import pandas as pd\n",
    "import numpy as np"
   ]
  },
  {
   "cell_type": "code",
   "execution_count": 64,
   "id": "cc1575df-b3f6-4c6f-b2c3-b756e587ec9d",
   "metadata": {},
   "outputs": [],
   "source": [
    "starts = ['https://www.imdb.com/search/title/?title_type=feature&num_votes=20,&sort=num_votes,desc&count=250&ref_=adv_prv']"
   ]
  },
  {
   "cell_type": "code",
   "execution_count": 65,
   "id": "1ee381fb-53ad-493a-b6f9-c6cc793b370b",
   "metadata": {},
   "outputs": [],
   "source": [
    "adds = [f'https://www.imdb.com/search/title/?title_type=feature&num_votes=20,&sort=num_votes,desc&count=250&start={n}&ref_=adv_nxt' for n in np.arange(251,10250,250)]"
   ]
  },
  {
   "cell_type": "code",
   "execution_count": 66,
   "id": "be1a51e8-4637-47bf-b33e-929678bcf413",
   "metadata": {},
   "outputs": [
    {
     "data": {
      "text/plain": [
       "['https://www.imdb.com/search/title/?title_type=feature&num_votes=20,&sort=num_votes,desc&count=250&ref_=adv_prv',\n",
       " 'https://www.imdb.com/search/title/?title_type=feature&num_votes=20,&sort=num_votes,desc&count=250&start=251&ref_=adv_nxt',\n",
       " 'https://www.imdb.com/search/title/?title_type=feature&num_votes=20,&sort=num_votes,desc&count=250&start=501&ref_=adv_nxt',\n",
       " 'https://www.imdb.com/search/title/?title_type=feature&num_votes=20,&sort=num_votes,desc&count=250&start=751&ref_=adv_nxt',\n",
       " 'https://www.imdb.com/search/title/?title_type=feature&num_votes=20,&sort=num_votes,desc&count=250&start=1001&ref_=adv_nxt',\n",
       " 'https://www.imdb.com/search/title/?title_type=feature&num_votes=20,&sort=num_votes,desc&count=250&start=1251&ref_=adv_nxt',\n",
       " 'https://www.imdb.com/search/title/?title_type=feature&num_votes=20,&sort=num_votes,desc&count=250&start=1501&ref_=adv_nxt',\n",
       " 'https://www.imdb.com/search/title/?title_type=feature&num_votes=20,&sort=num_votes,desc&count=250&start=1751&ref_=adv_nxt',\n",
       " 'https://www.imdb.com/search/title/?title_type=feature&num_votes=20,&sort=num_votes,desc&count=250&start=2001&ref_=adv_nxt',\n",
       " 'https://www.imdb.com/search/title/?title_type=feature&num_votes=20,&sort=num_votes,desc&count=250&start=2251&ref_=adv_nxt',\n",
       " 'https://www.imdb.com/search/title/?title_type=feature&num_votes=20,&sort=num_votes,desc&count=250&start=2501&ref_=adv_nxt',\n",
       " 'https://www.imdb.com/search/title/?title_type=feature&num_votes=20,&sort=num_votes,desc&count=250&start=2751&ref_=adv_nxt',\n",
       " 'https://www.imdb.com/search/title/?title_type=feature&num_votes=20,&sort=num_votes,desc&count=250&start=3001&ref_=adv_nxt',\n",
       " 'https://www.imdb.com/search/title/?title_type=feature&num_votes=20,&sort=num_votes,desc&count=250&start=3251&ref_=adv_nxt',\n",
       " 'https://www.imdb.com/search/title/?title_type=feature&num_votes=20,&sort=num_votes,desc&count=250&start=3501&ref_=adv_nxt',\n",
       " 'https://www.imdb.com/search/title/?title_type=feature&num_votes=20,&sort=num_votes,desc&count=250&start=3751&ref_=adv_nxt',\n",
       " 'https://www.imdb.com/search/title/?title_type=feature&num_votes=20,&sort=num_votes,desc&count=250&start=4001&ref_=adv_nxt',\n",
       " 'https://www.imdb.com/search/title/?title_type=feature&num_votes=20,&sort=num_votes,desc&count=250&start=4251&ref_=adv_nxt',\n",
       " 'https://www.imdb.com/search/title/?title_type=feature&num_votes=20,&sort=num_votes,desc&count=250&start=4501&ref_=adv_nxt',\n",
       " 'https://www.imdb.com/search/title/?title_type=feature&num_votes=20,&sort=num_votes,desc&count=250&start=4751&ref_=adv_nxt',\n",
       " 'https://www.imdb.com/search/title/?title_type=feature&num_votes=20,&sort=num_votes,desc&count=250&start=5001&ref_=adv_nxt',\n",
       " 'https://www.imdb.com/search/title/?title_type=feature&num_votes=20,&sort=num_votes,desc&count=250&start=5251&ref_=adv_nxt',\n",
       " 'https://www.imdb.com/search/title/?title_type=feature&num_votes=20,&sort=num_votes,desc&count=250&start=5501&ref_=adv_nxt',\n",
       " 'https://www.imdb.com/search/title/?title_type=feature&num_votes=20,&sort=num_votes,desc&count=250&start=5751&ref_=adv_nxt',\n",
       " 'https://www.imdb.com/search/title/?title_type=feature&num_votes=20,&sort=num_votes,desc&count=250&start=6001&ref_=adv_nxt',\n",
       " 'https://www.imdb.com/search/title/?title_type=feature&num_votes=20,&sort=num_votes,desc&count=250&start=6251&ref_=adv_nxt',\n",
       " 'https://www.imdb.com/search/title/?title_type=feature&num_votes=20,&sort=num_votes,desc&count=250&start=6501&ref_=adv_nxt',\n",
       " 'https://www.imdb.com/search/title/?title_type=feature&num_votes=20,&sort=num_votes,desc&count=250&start=6751&ref_=adv_nxt',\n",
       " 'https://www.imdb.com/search/title/?title_type=feature&num_votes=20,&sort=num_votes,desc&count=250&start=7001&ref_=adv_nxt',\n",
       " 'https://www.imdb.com/search/title/?title_type=feature&num_votes=20,&sort=num_votes,desc&count=250&start=7251&ref_=adv_nxt',\n",
       " 'https://www.imdb.com/search/title/?title_type=feature&num_votes=20,&sort=num_votes,desc&count=250&start=7501&ref_=adv_nxt',\n",
       " 'https://www.imdb.com/search/title/?title_type=feature&num_votes=20,&sort=num_votes,desc&count=250&start=7751&ref_=adv_nxt',\n",
       " 'https://www.imdb.com/search/title/?title_type=feature&num_votes=20,&sort=num_votes,desc&count=250&start=8001&ref_=adv_nxt',\n",
       " 'https://www.imdb.com/search/title/?title_type=feature&num_votes=20,&sort=num_votes,desc&count=250&start=8251&ref_=adv_nxt',\n",
       " 'https://www.imdb.com/search/title/?title_type=feature&num_votes=20,&sort=num_votes,desc&count=250&start=8501&ref_=adv_nxt',\n",
       " 'https://www.imdb.com/search/title/?title_type=feature&num_votes=20,&sort=num_votes,desc&count=250&start=8751&ref_=adv_nxt',\n",
       " 'https://www.imdb.com/search/title/?title_type=feature&num_votes=20,&sort=num_votes,desc&count=250&start=9001&ref_=adv_nxt',\n",
       " 'https://www.imdb.com/search/title/?title_type=feature&num_votes=20,&sort=num_votes,desc&count=250&start=9251&ref_=adv_nxt',\n",
       " 'https://www.imdb.com/search/title/?title_type=feature&num_votes=20,&sort=num_votes,desc&count=250&start=9501&ref_=adv_nxt',\n",
       " 'https://www.imdb.com/search/title/?title_type=feature&num_votes=20,&sort=num_votes,desc&count=250&start=9751&ref_=adv_nxt',\n",
       " 'https://www.imdb.com/search/title/?title_type=feature&num_votes=20,&sort=num_votes,desc&count=250&start=10001&ref_=adv_nxt']"
      ]
     },
     "execution_count": 66,
     "metadata": {},
     "output_type": "execute_result"
    }
   ],
   "source": [
    "starts += adds\n",
    "starts"
   ]
  },
  {
   "cell_type": "code",
   "execution_count": 67,
   "id": "e9e9bc5e-ad4b-4458-890b-285c8d2dfc5a",
   "metadata": {},
   "outputs": [],
   "source": [
    "starts = pd.DataFrame(starts,columns=['links'])"
   ]
  },
  {
   "cell_type": "code",
   "execution_count": 68,
   "id": "0a386870-ccf4-4d73-963c-7f159ae5a414",
   "metadata": {},
   "outputs": [],
   "source": [
    "starts.to_csv(r\"starts_df.csv\")"
   ]
  },
  {
   "cell_type": "code",
   "execution_count": null,
   "id": "1ad4af27-7dd0-4cd0-9a94-b5826cd55db0",
   "metadata": {},
   "outputs": [],
   "source": []
  }
 ],
 "metadata": {
  "kernelspec": {
   "display_name": "Python 3",
   "language": "python",
   "name": "python3"
  },
  "language_info": {
   "codemirror_mode": {
    "name": "ipython",
    "version": 3
   },
   "file_extension": ".py",
   "mimetype": "text/x-python",
   "name": "python",
   "nbconvert_exporter": "python",
   "pygments_lexer": "ipython3",
   "version": "3.8.8"
  }
 },
 "nbformat": 4,
 "nbformat_minor": 5
}
